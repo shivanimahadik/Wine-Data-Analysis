{
 "cells": [
  {
   "cell_type": "markdown",
   "id": "b27da7f1",
   "metadata": {},
   "source": [
    "# Wine Dataset"
   ]
  },
  {
   "cell_type": "markdown",
   "id": "b08500fd",
   "metadata": {},
   "source": [
    "Dataset link: https://www.kaggle.com/datasets/christopheiv/winemagdata130k?select=winemag-data-130k-v2.csv"
   ]
  },
  {
   "cell_type": "code",
   "execution_count": 1,
   "id": "02212f6c",
   "metadata": {},
   "outputs": [],
   "source": [
    "import pandas as pd\n",
    "import numpy as np\n",
    "import matplotlib.pyplot as plt\n",
    "%matplotlib inline\n",
    "import seaborn as sns"
   ]
  },
  {
   "cell_type": "code",
   "execution_count": 2,
   "id": "45fe6b1f",
   "metadata": {},
   "outputs": [],
   "source": [
    "df = pd.read_csv(r'C:\\Users\\Sharvin\\winemag-data-130k-v2.csv')"
   ]
  },
  {
   "cell_type": "code",
   "execution_count": 3,
   "id": "6f1f0a1b",
   "metadata": {},
   "outputs": [
    {
     "data": {
      "text/html": [
       "<div>\n",
       "<style scoped>\n",
       "    .dataframe tbody tr th:only-of-type {\n",
       "        vertical-align: middle;\n",
       "    }\n",
       "\n",
       "    .dataframe tbody tr th {\n",
       "        vertical-align: top;\n",
       "    }\n",
       "\n",
       "    .dataframe thead th {\n",
       "        text-align: right;\n",
       "    }\n",
       "</style>\n",
       "<table border=\"1\" class=\"dataframe\">\n",
       "  <thead>\n",
       "    <tr style=\"text-align: right;\">\n",
       "      <th></th>\n",
       "      <th>Unnamed: 0</th>\n",
       "      <th>country</th>\n",
       "      <th>description</th>\n",
       "      <th>designation</th>\n",
       "      <th>points</th>\n",
       "      <th>price</th>\n",
       "      <th>province</th>\n",
       "      <th>region_1</th>\n",
       "      <th>region_2</th>\n",
       "      <th>taster_name</th>\n",
       "      <th>taster_twitter_handle</th>\n",
       "      <th>title</th>\n",
       "      <th>variety</th>\n",
       "      <th>winery</th>\n",
       "    </tr>\n",
       "  </thead>\n",
       "  <tbody>\n",
       "    <tr>\n",
       "      <th>0</th>\n",
       "      <td>0</td>\n",
       "      <td>Italy</td>\n",
       "      <td>Aromas include tropical fruit, broom, brimston...</td>\n",
       "      <td>Vulkà Bianco</td>\n",
       "      <td>87</td>\n",
       "      <td>NaN</td>\n",
       "      <td>Sicily &amp; Sardinia</td>\n",
       "      <td>Etna</td>\n",
       "      <td>NaN</td>\n",
       "      <td>Kerin O’Keefe</td>\n",
       "      <td>@kerinokeefe</td>\n",
       "      <td>Nicosia 2013 Vulkà Bianco  (Etna)</td>\n",
       "      <td>White Blend</td>\n",
       "      <td>Nicosia</td>\n",
       "    </tr>\n",
       "    <tr>\n",
       "      <th>1</th>\n",
       "      <td>1</td>\n",
       "      <td>Portugal</td>\n",
       "      <td>This is ripe and fruity, a wine that is smooth...</td>\n",
       "      <td>Avidagos</td>\n",
       "      <td>87</td>\n",
       "      <td>15.0</td>\n",
       "      <td>Douro</td>\n",
       "      <td>NaN</td>\n",
       "      <td>NaN</td>\n",
       "      <td>Roger Voss</td>\n",
       "      <td>@vossroger</td>\n",
       "      <td>Quinta dos Avidagos 2011 Avidagos Red (Douro)</td>\n",
       "      <td>Portuguese Red</td>\n",
       "      <td>Quinta dos Avidagos</td>\n",
       "    </tr>\n",
       "    <tr>\n",
       "      <th>2</th>\n",
       "      <td>2</td>\n",
       "      <td>US</td>\n",
       "      <td>Tart and snappy, the flavors of lime flesh and...</td>\n",
       "      <td>NaN</td>\n",
       "      <td>87</td>\n",
       "      <td>14.0</td>\n",
       "      <td>Oregon</td>\n",
       "      <td>Willamette Valley</td>\n",
       "      <td>Willamette Valley</td>\n",
       "      <td>Paul Gregutt</td>\n",
       "      <td>@paulgwine</td>\n",
       "      <td>Rainstorm 2013 Pinot Gris (Willamette Valley)</td>\n",
       "      <td>Pinot Gris</td>\n",
       "      <td>Rainstorm</td>\n",
       "    </tr>\n",
       "    <tr>\n",
       "      <th>3</th>\n",
       "      <td>3</td>\n",
       "      <td>US</td>\n",
       "      <td>Pineapple rind, lemon pith and orange blossom ...</td>\n",
       "      <td>Reserve Late Harvest</td>\n",
       "      <td>87</td>\n",
       "      <td>13.0</td>\n",
       "      <td>Michigan</td>\n",
       "      <td>Lake Michigan Shore</td>\n",
       "      <td>NaN</td>\n",
       "      <td>Alexander Peartree</td>\n",
       "      <td>NaN</td>\n",
       "      <td>St. Julian 2013 Reserve Late Harvest Riesling ...</td>\n",
       "      <td>Riesling</td>\n",
       "      <td>St. Julian</td>\n",
       "    </tr>\n",
       "    <tr>\n",
       "      <th>4</th>\n",
       "      <td>4</td>\n",
       "      <td>US</td>\n",
       "      <td>Much like the regular bottling from 2012, this...</td>\n",
       "      <td>Vintner's Reserve Wild Child Block</td>\n",
       "      <td>87</td>\n",
       "      <td>65.0</td>\n",
       "      <td>Oregon</td>\n",
       "      <td>Willamette Valley</td>\n",
       "      <td>Willamette Valley</td>\n",
       "      <td>Paul Gregutt</td>\n",
       "      <td>@paulgwine</td>\n",
       "      <td>Sweet Cheeks 2012 Vintner's Reserve Wild Child...</td>\n",
       "      <td>Pinot Noir</td>\n",
       "      <td>Sweet Cheeks</td>\n",
       "    </tr>\n",
       "  </tbody>\n",
       "</table>\n",
       "</div>"
      ],
      "text/plain": [
       "   Unnamed: 0   country                                        description  \\\n",
       "0           0     Italy  Aromas include tropical fruit, broom, brimston...   \n",
       "1           1  Portugal  This is ripe and fruity, a wine that is smooth...   \n",
       "2           2        US  Tart and snappy, the flavors of lime flesh and...   \n",
       "3           3        US  Pineapple rind, lemon pith and orange blossom ...   \n",
       "4           4        US  Much like the regular bottling from 2012, this...   \n",
       "\n",
       "                          designation  points  price           province  \\\n",
       "0                        Vulkà Bianco      87    NaN  Sicily & Sardinia   \n",
       "1                            Avidagos      87   15.0              Douro   \n",
       "2                                 NaN      87   14.0             Oregon   \n",
       "3                Reserve Late Harvest      87   13.0           Michigan   \n",
       "4  Vintner's Reserve Wild Child Block      87   65.0             Oregon   \n",
       "\n",
       "              region_1           region_2         taster_name  \\\n",
       "0                 Etna                NaN       Kerin O’Keefe   \n",
       "1                  NaN                NaN          Roger Voss   \n",
       "2    Willamette Valley  Willamette Valley        Paul Gregutt   \n",
       "3  Lake Michigan Shore                NaN  Alexander Peartree   \n",
       "4    Willamette Valley  Willamette Valley        Paul Gregutt   \n",
       "\n",
       "  taster_twitter_handle                                              title  \\\n",
       "0          @kerinokeefe                  Nicosia 2013 Vulkà Bianco  (Etna)   \n",
       "1            @vossroger      Quinta dos Avidagos 2011 Avidagos Red (Douro)   \n",
       "2           @paulgwine       Rainstorm 2013 Pinot Gris (Willamette Valley)   \n",
       "3                   NaN  St. Julian 2013 Reserve Late Harvest Riesling ...   \n",
       "4           @paulgwine   Sweet Cheeks 2012 Vintner's Reserve Wild Child...   \n",
       "\n",
       "          variety               winery  \n",
       "0     White Blend              Nicosia  \n",
       "1  Portuguese Red  Quinta dos Avidagos  \n",
       "2      Pinot Gris            Rainstorm  \n",
       "3        Riesling           St. Julian  \n",
       "4      Pinot Noir         Sweet Cheeks  "
      ]
     },
     "execution_count": 3,
     "metadata": {},
     "output_type": "execute_result"
    }
   ],
   "source": [
    "df.head()"
   ]
  },
  {
   "cell_type": "code",
   "execution_count": 4,
   "id": "ac309528",
   "metadata": {},
   "outputs": [
    {
     "name": "stdout",
     "output_type": "stream",
     "text": [
      "<class 'pandas.core.frame.DataFrame'>\n",
      "RangeIndex: 129971 entries, 0 to 129970\n",
      "Data columns (total 14 columns):\n",
      " #   Column                 Non-Null Count   Dtype  \n",
      "---  ------                 --------------   -----  \n",
      " 0   Unnamed: 0             129971 non-null  int64  \n",
      " 1   country                129908 non-null  object \n",
      " 2   description            129971 non-null  object \n",
      " 3   designation            92506 non-null   object \n",
      " 4   points                 129971 non-null  int64  \n",
      " 5   price                  120975 non-null  float64\n",
      " 6   province               129908 non-null  object \n",
      " 7   region_1               108724 non-null  object \n",
      " 8   region_2               50511 non-null   object \n",
      " 9   taster_name            103727 non-null  object \n",
      " 10  taster_twitter_handle  98758 non-null   object \n",
      " 11  title                  129971 non-null  object \n",
      " 12  variety                129970 non-null  object \n",
      " 13  winery                 129971 non-null  object \n",
      "dtypes: float64(1), int64(2), object(11)\n",
      "memory usage: 13.9+ MB\n"
     ]
    }
   ],
   "source": [
    "df.info()"
   ]
  },
  {
   "cell_type": "code",
   "execution_count": 5,
   "id": "d2e0fbd1",
   "metadata": {},
   "outputs": [
    {
     "data": {
      "text/plain": [
       "Unnamed: 0                 int64\n",
       "country                   object\n",
       "description               object\n",
       "designation               object\n",
       "points                     int64\n",
       "price                    float64\n",
       "province                  object\n",
       "region_1                  object\n",
       "region_2                  object\n",
       "taster_name               object\n",
       "taster_twitter_handle     object\n",
       "title                     object\n",
       "variety                   object\n",
       "winery                    object\n",
       "dtype: object"
      ]
     },
     "execution_count": 5,
     "metadata": {},
     "output_type": "execute_result"
    }
   ],
   "source": [
    "df.dtypes"
   ]
  },
  {
   "cell_type": "code",
   "execution_count": 6,
   "id": "f53da492",
   "metadata": {},
   "outputs": [
    {
     "data": {
      "text/plain": [
       "(129971, 14)"
      ]
     },
     "execution_count": 6,
     "metadata": {},
     "output_type": "execute_result"
    }
   ],
   "source": [
    "df.shape"
   ]
  },
  {
   "cell_type": "code",
   "execution_count": 7,
   "id": "a009f6c1",
   "metadata": {},
   "outputs": [
    {
     "data": {
      "text/plain": [
       "Index(['Unnamed: 0', 'country', 'description', 'designation', 'points',\n",
       "       'price', 'province', 'region_1', 'region_2', 'taster_name',\n",
       "       'taster_twitter_handle', 'title', 'variety', 'winery'],\n",
       "      dtype='object')"
      ]
     },
     "execution_count": 7,
     "metadata": {},
     "output_type": "execute_result"
    }
   ],
   "source": [
    "df.columns"
   ]
  },
  {
   "cell_type": "code",
   "execution_count": 8,
   "id": "eec16fd1",
   "metadata": {},
   "outputs": [
    {
     "data": {
      "text/plain": [
       "Index(['country', 'description', 'designation', 'points', 'price', 'province',\n",
       "       'region_1', 'region_2', 'taster_name', 'taster_twitter_handle', 'title',\n",
       "       'variety', 'winery'],\n",
       "      dtype='object')"
      ]
     },
     "execution_count": 8,
     "metadata": {},
     "output_type": "execute_result"
    }
   ],
   "source": [
    "df.drop('Unnamed: 0',axis = 1,inplace = True)\n",
    "df.columns"
   ]
  },
  {
   "cell_type": "code",
   "execution_count": 9,
   "id": "8c5e0673",
   "metadata": {},
   "outputs": [
    {
     "data": {
      "text/html": [
       "<div>\n",
       "<style scoped>\n",
       "    .dataframe tbody tr th:only-of-type {\n",
       "        vertical-align: middle;\n",
       "    }\n",
       "\n",
       "    .dataframe tbody tr th {\n",
       "        vertical-align: top;\n",
       "    }\n",
       "\n",
       "    .dataframe thead th {\n",
       "        text-align: right;\n",
       "    }\n",
       "</style>\n",
       "<table border=\"1\" class=\"dataframe\">\n",
       "  <thead>\n",
       "    <tr style=\"text-align: right;\">\n",
       "      <th></th>\n",
       "      <th>count</th>\n",
       "      <th>mean</th>\n",
       "      <th>std</th>\n",
       "      <th>min</th>\n",
       "      <th>25%</th>\n",
       "      <th>50%</th>\n",
       "      <th>75%</th>\n",
       "      <th>max</th>\n",
       "    </tr>\n",
       "  </thead>\n",
       "  <tbody>\n",
       "    <tr>\n",
       "      <th>points</th>\n",
       "      <td>129971.0</td>\n",
       "      <td>88.447138</td>\n",
       "      <td>3.039730</td>\n",
       "      <td>80.0</td>\n",
       "      <td>86.0</td>\n",
       "      <td>88.0</td>\n",
       "      <td>91.0</td>\n",
       "      <td>100.0</td>\n",
       "    </tr>\n",
       "    <tr>\n",
       "      <th>price</th>\n",
       "      <td>120975.0</td>\n",
       "      <td>35.363389</td>\n",
       "      <td>41.022218</td>\n",
       "      <td>4.0</td>\n",
       "      <td>17.0</td>\n",
       "      <td>25.0</td>\n",
       "      <td>42.0</td>\n",
       "      <td>3300.0</td>\n",
       "    </tr>\n",
       "  </tbody>\n",
       "</table>\n",
       "</div>"
      ],
      "text/plain": [
       "           count       mean        std   min   25%   50%   75%     max\n",
       "points  129971.0  88.447138   3.039730  80.0  86.0  88.0  91.0   100.0\n",
       "price   120975.0  35.363389  41.022218   4.0  17.0  25.0  42.0  3300.0"
      ]
     },
     "execution_count": 9,
     "metadata": {},
     "output_type": "execute_result"
    }
   ],
   "source": [
    "df.describe().T"
   ]
  },
  {
   "cell_type": "code",
   "execution_count": 10,
   "id": "7100b2a2",
   "metadata": {},
   "outputs": [
    {
     "data": {
      "text/plain": [
       "array(['Italy', 'Portugal', 'US', 'Spain', 'France', 'Germany',\n",
       "       'Argentina', 'Chile', 'Australia', 'Austria', 'South Africa',\n",
       "       'New Zealand', 'Israel', 'Hungary', 'Greece', 'Romania', 'Mexico',\n",
       "       'Canada', nan, 'Turkey', 'Czech Republic', 'Slovenia',\n",
       "       'Luxembourg', 'Croatia', 'Georgia', 'Uruguay', 'England',\n",
       "       'Lebanon', 'Serbia', 'Brazil', 'Moldova', 'Morocco', 'Peru',\n",
       "       'India', 'Bulgaria', 'Cyprus', 'Armenia', 'Switzerland',\n",
       "       'Bosnia and Herzegovina', 'Ukraine', 'Slovakia', 'Macedonia',\n",
       "       'China', 'Egypt'], dtype=object)"
      ]
     },
     "execution_count": 10,
     "metadata": {},
     "output_type": "execute_result"
    }
   ],
   "source": [
    "df['country'].unique()"
   ]
  },
  {
   "cell_type": "code",
   "execution_count": 11,
   "id": "0f5f0bf9",
   "metadata": {},
   "outputs": [
    {
     "name": "stdout",
     "output_type": "stream",
     "text": [
      "['White Blend' 'Portuguese Red' 'Pinot Gris' 'Riesling' 'Pinot Noir'\n",
      " 'Tempranillo-Merlot' 'Frappato' 'Gewürztraminer' 'Cabernet Sauvignon'\n",
      " 'Nerello Mascalese' 'Chardonnay' 'Malbec' 'Tempranillo Blend' 'Meritage'\n",
      " 'Red Blend' 'Merlot' \"Nero d'Avola\" 'Chenin Blanc' 'Gamay'\n",
      " 'Sauvignon Blanc' 'Viognier-Chardonnay' 'Primitivo' 'Catarratto'\n",
      " 'Inzolia' 'Petit Verdot' 'Monica' 'Bordeaux-style White Blend' 'Grillo'\n",
      " 'Sangiovese' 'Cabernet Franc' 'Champagne Blend'\n",
      " 'Bordeaux-style Red Blend' 'Aglianico' 'Petite Sirah' 'Touriga Nacional'\n",
      " 'Carmenère' 'Albariño' 'Petit Manseng' 'Rosé' 'Zinfandel' 'Vernaccia'\n",
      " 'Rosato' 'Grüner Veltliner' 'Viognier' 'Vermentino' 'Grenache Blanc'\n",
      " 'Syrah' 'Nebbiolo' 'Shiraz-Cabernet Sauvignon' 'Pinot Blanc'\n",
      " 'Alsace white blend' 'Barbera' 'Rhône-style Red Blend' 'Portuguese White'\n",
      " 'Graciano' 'Tannat-Cabernet' 'Sauvignon' 'Sangiovese Grosso' 'Torrontés'\n",
      " 'Prugnolo Gentile' 'G-S-M' 'Verdejo' 'Fumé Blanc' 'Furmint'\n",
      " 'Pinot Bianco' 'Bonarda' 'Shiraz' 'Montepulciano' 'Moscato' 'Grenache'\n",
      " 'Ugni Blanc-Colombard' 'Syrah-Viognier' 'Blaufränkisch' 'Friulano'\n",
      " 'Assyrtico' 'Carignan-Grenache' 'Sagrantino' 'Savagnin'\n",
      " 'Cabernet Sauvignon-Syrah' 'Prosecco' 'Vignoles' 'Sparkling Blend'\n",
      " 'Muscat' 'Muscadelle' 'Shiraz-Viognier' 'Garganega' 'Pinot Grigio'\n",
      " 'Tempranillo' 'Zierfandler' 'Cortese' 'Mencía' 'Zweigelt' 'Melon'\n",
      " 'Rhône-style White Blend' 'Vidal' 'Cannonau' 'Verdelho' 'Marsanne'\n",
      " 'Scheurebe' 'Kerner' 'Syrah-Grenache' 'Dolcetto' 'Vilana' 'Glera' 'Viura'\n",
      " 'Garnacha Tintorera' 'Pinot Nero' 'Roter Veltliner' 'Pinotage' 'Sémillon'\n",
      " 'Pinot Noir-Gamay' 'Antão Vaz' 'Cabernet Sauvignon-Carmenère'\n",
      " 'Verdejo-Viura' 'Verduzzo' 'Verdicchio' 'Silvaner' 'Colombard'\n",
      " 'Carricante' 'Sylvaner' 'Fiano' 'Früburgunder' 'Sousão' 'Roussanne'\n",
      " 'Avesso' 'Cinsault' 'Chinuri' 'Tinta Miúda'\n",
      " 'Muscat Blanc à Petits Grains' 'Portuguese Sparkling' 'Monastrell'\n",
      " 'Xarel-lo' 'Greco' 'Trebbiano' 'Corvina, Rondinella, Molinara' 'Port'\n",
      " 'Chenin Blanc-Chardonnay' 'Insolia' 'Merlot-Malbec' 'Ribolla Gialla'\n",
      " 'Cabernet Sauvignon-Merlot' 'Duras' 'Weissburgunder' 'Roditis' 'Traminer'\n",
      " 'Papaskarasi' 'Tannat-Syrah' 'Marsanne-Roussanne' 'Charbono'\n",
      " 'Merlot-Argaman' 'Prié Blanc' 'Sherry' 'Provence red blend' 'Tannat'\n",
      " 'Zibibbo' 'Falanghina' 'Garnacha' 'Negroamaro' 'Mourvèdre'\n",
      " 'Syrah-Cabernet' 'Müller-Thurgau' 'Pinot Meunier'\n",
      " 'Cabernet Sauvignon-Sangiovese' 'Austrian Red Blend' 'Teroldego'\n",
      " 'Pansa Blanca' 'Muskat Ottonel' 'Sauvignon Blanc-Semillon' 'Claret'\n",
      " 'Semillon-Sauvignon Blanc' 'Bical' 'Moscatel' 'Rosado' 'Viura-Chardonnay'\n",
      " 'Baga' 'Malvasia Bianca' 'Gelber Muskateller' 'Malbec-Merlot'\n",
      " 'Monastrell-Syrah' 'Malbec-Tannat' 'Malbec-Cabernet Franc' 'Turbiana'\n",
      " 'Refosco' 'Alvarinho' 'Manzoni' 'Aragonês' 'Agiorgitiko' 'Malagousia'\n",
      " 'Assyrtiko' 'Ruché' 'Welschriesling' 'Tinta de Toro' 'Cabernet Moravia'\n",
      " 'Rieslaner' 'Traminette' 'Chambourcin' 'Nero di Troia'\n",
      " 'Lambrusco di Sorbara' 'Cesanese' 'Feteasca Neagra' 'Lagrein'\n",
      " 'Tinta Fina' 'St. Laurent' 'Marsanne-Viognier'\n",
      " 'Cabernet Sauvignon-Shiraz' 'Syrah-Cabernet Sauvignon'\n",
      " 'Gewürztraminer-Riesling' 'Pugnitello' 'Cerceal' 'Touriga Nacional Blend'\n",
      " 'Austrian white blend' 'Tocai' 'Tinta Roriz' 'Chardonnay-Viognier'\n",
      " 'Fernão Pires' 'Cabernet Franc-Cabernet Sauvignon' 'Grenache-Syrah'\n",
      " 'Seyval Blanc' 'Muscat Canelli' 'Cabernet Merlot'\n",
      " 'Tempranillo-Cabernet Sauvignon' 'Arinto' 'Aragonez'\n",
      " 'Merlot-Cabernet Franc' 'Syrah-Petite Sirah' 'Cabernet Blend' 'Maturana'\n",
      " 'Pecorino' 'Rotgipfler' 'Kinali Yapincak' 'Cabernet Franc-Carmenère'\n",
      " 'Magliocco' 'Gamay Noir' 'Sauvignon Gris' 'Spätburgunder' 'Picpoul'\n",
      " 'Vidal Blanc' 'Albanello' 'White Port' 'Arneis' 'Malvasia' 'Plavac Mali'\n",
      " 'Lemberger' 'Saperavi' 'Altesse' 'Blanc du Bois' 'Provence white blend'\n",
      " 'Nosiola' 'Dornfelder' 'Roussanne-Viognier' 'Ojaleshi' 'Godello'\n",
      " 'Mondeuse' 'Perricone' 'Pedro Ximénez' 'Auxerrois' 'Syrah-Merlot'\n",
      " 'Albana' 'Muskat' 'Lambrusco' 'Cabernet Sauvignon-Malbec' 'Tinto Fino'\n",
      " 'Malbec-Cabernet Sauvignon' 'Moschofilero' 'Grechetto' 'Encruzado'\n",
      " 'Carignano' 'Cabernet Franc-Merlot' 'Torbato' 'Syrah-Petit Verdot'\n",
      " 'Garnacha Blanca' 'Pallagrello' 'Morava' 'Syrah-Mourvèdre' 'Aleatico'\n",
      " 'Carcajolu' 'Kisi' 'Shiraz-Grenache' 'Palomino' 'Grenache-Carignan'\n",
      " 'Nascetta' 'Siria' 'Malbec-Syrah' 'Asprinio' 'Feteascǎ Regalǎ'\n",
      " 'Lambrusco Grasparossa' 'Marselan' 'Tocai Friulano' 'Schiava'\n",
      " 'Alfrocheiro' 'Chardonnay-Semillon' 'Corvina' 'Norton'\n",
      " 'Alicante Bouschet' 'Tokaji' 'Moscadello'\n",
      " 'Cabernet Sauvignon-Tempranillo' 'Carignan' 'Loureiro-Arinto'\n",
      " 'Cabernet-Syrah' 'Sauvignon Blanc-Chardonnay' 'Symphony' 'Edelzwicker'\n",
      " 'Madeira Blend' 'Black Muscat' 'Grenache Noir' 'Durella' 'Xinomavro'\n",
      " 'Tinto del Pais' 'Merlot-Cabernet Sauvignon' 'Cercial'\n",
      " 'Johannisberg Riesling' 'Petite Verdot' 'Passerina' 'Valdiguié'\n",
      " 'Colombard-Sauvignon Blanc' 'Kangoun' 'Loureiro' 'Posip' 'Uva di Troia'\n",
      " 'Gros and Petit Manseng' 'Jacquère' 'Kalecik Karasi' 'Karasakiz'\n",
      " 'Mourvèdre-Syrah' 'Negrette' 'Zierfandler-Rotgipfler' 'Clairette'\n",
      " 'Raboso' 'País' 'Mauzac' 'Pinot Auxerrois' 'Chenin Blanc-Sauvignon Blanc'\n",
      " 'Diamond' 'Marzemino' 'Tinta Barroca' 'Chardonnay-Sauvignon Blanc'\n",
      " 'Castelão' 'Trebbiano Spoletino' 'Teran' 'Trepat' 'Freisa' 'Neuburger'\n",
      " 'Sämling' 'Chasselas' 'Hárslevelü' 'Trincadeira' 'Merlot-Tannat'\n",
      " 'Rkatsiteli' 'Melnik' 'Siegerrebe' 'Trousseau Gris' 'Grenache Blend'\n",
      " 'Gros Manseng' 'Portuguese Rosé' 'Brachetto' 'Mantonico' 'Ekigaïna'\n",
      " 'Muskateller' 'Aligoté' 'Sangiovese Cabernet'\n",
      " 'Touriga Nacional-Cabernet Sauvignon' 'Muscat Blanc' 'Argaman'\n",
      " 'Viognier-Roussanne' 'Pallagrello Bianco' 'Bobal' 'Malvasia Istriana'\n",
      " 'Cabernet Sauvignon-Cabernet Franc' 'Baco Noir' 'Veltliner'\n",
      " 'Tempranillo-Tannat' 'Morillon' 'Touriga Franca' 'Picolit'\n",
      " 'Barbera-Nebbiolo' 'Prieto Picudo' 'Gaglioppo' 'Tokay' 'Sacy'\n",
      " 'Piedirosso' 'Piquepoul Blanc' 'Mansois' 'Chardonnay-Sauvignon'\n",
      " 'Tempranillo-Garnacha' 'Carmenère-Cabernet Sauvignon'\n",
      " 'Chenin Blanc-Viognier' 'Susumaniello' 'Vitovska' 'Orange Muscat'\n",
      " 'Grauburgunder' 'Carignane' 'Moscatel Roxo' 'Tannat-Merlot'\n",
      " 'Nerello Cappuccio' 'Counoise' 'Macabeo' 'Mazuelo' 'Sauvignon-Sémillon'\n",
      " 'Tinta del Pais' 'Vranec' 'Mavrud' \"Cesanese d'Affile\" 'Moscato Giallo'\n",
      " 'Debit' 'Verdil' 'Cabernet' 'Verduzzo Friulano ' 'Treixadura'\n",
      " \"Loin de l'Oeil\" 'Coda di Volpe' 'Grenache-Mourvèdre' 'Forcallà'\n",
      " 'Viura-Verdejo' 'Bombino Bianco' 'Pinot-Chardonnay' 'Syrah-Tempranillo'\n",
      " 'Cabernet Sauvignon-Barbera' 'Merlot-Cabernet' \"Muscat d'Alexandrie\"\n",
      " 'Jaen' 'Tinta del Toro' 'Timorasso' 'Pigato'\n",
      " 'Sangiovese-Cabernet Sauvignon' 'Shiraz-Cabernet'\n",
      " 'Viognier-Gewürztraminer' 'Prunelard' 'Sauvignon Blanc-Chenin Blanc'\n",
      " 'Gros Plant' 'Malbec-Petit Verdot' 'Colombard-Ugni Blanc' 'Grignolino'\n",
      " 'Garnacha-Syrah' 'Rufete' 'Tempranillo-Shiraz' 'Mtsvane'\n",
      " 'Chardonnay-Pinot Gris' 'Marawi' 'Chardonnay-Pinot Blanc' 'Mataro'\n",
      " 'Tinta Cao' 'Blauer Portugieser' 'Ugni Blanc' 'Groppello'\n",
      " 'Semillon-Chardonnay' 'Irsai Oliver' 'Alvarelhão' 'Poulsard'\n",
      " 'Grenache-Shiraz' 'Baga-Touriga Nacional' 'Carineña' 'Pignoletto'\n",
      " 'Muscatel' 'Mavrodaphne' 'Ciliegiolo' 'Viognier-Grenache Blanc'\n",
      " 'Greco Bianco' 'Cabernet Sauvignon-Merlot-Shiraz' 'Sciaccerellu' 'Zelen'\n",
      " 'Alicante' 'Emir' 'Rosenmuskateller' 'Tsolikouri' 'Narince'\n",
      " 'Malbec-Cabernet' 'Touriga' 'Grecanico' 'Carmenère-Syrah'\n",
      " 'Madeleine Angevine' 'Mavroudi' 'Pinot Blanc-Pinot Noir' 'Muscat Hamburg'\n",
      " 'Tempranillo Blanco' 'Casavecchia' 'Pinot Gris-Gewürztraminer'\n",
      " 'White Riesling' 'Tinto Velasco' 'Hondarrabi Zuri' 'Nuragus' 'Xynisteri'\n",
      " 'Kadarka' 'Sauvignon Musqué' 'Roussanne-Marsanne' 'Incrocio Manzoni'\n",
      " 'Terrantez' 'Bual' 'Okuzgozu' 'Rivaner' 'Doña Blanca' 'Graševina'\n",
      " 'Lambrusco Salamino' 'Sangiovese-Syrah' 'Tannat-Cabernet Franc'\n",
      " 'Thrapsathiri' 'Fer Servadou' 'Mission' 'Kekfrankos' 'Cococciola'\n",
      " 'Blauburgunder' 'Marquette' 'Romorantin' 'Verdejo-Sauvignon Blanc'\n",
      " 'Braucol' 'Malvasia-Viura' 'Savatiano' 'Cabernet Franc-Malbec'\n",
      " 'Pallagrello Nero' 'Rebula' 'Vespolina' 'Shiraz-Malbec' 'Rebo'\n",
      " 'Macabeo-Chardonnay' 'Tempranillo-Malbec' 'Tamjanika' 'Trousseau'\n",
      " 'Bacchus' 'Syrah-Malbec' 'Syrah-Cabernet Franc' 'Macabeo-Moscatel'\n",
      " 'Cariñena-Garnacha' 'Plyto' 'Códega do Larinho' 'Sideritis' 'Çalkarası'\n",
      " 'Azal' 'Moscatel Graúdo' 'Viosinho' 'Moschofilero-Chardonnay' 'Paralleda'\n",
      " 'Rara Neagra' 'Malvasia di Candia' 'Maria Gomes' 'Molinara' 'Malvar'\n",
      " 'Airen' 'Erbaluce' 'Muscat of Alexandria' 'Verdosilla' 'Abouriou'\n",
      " 'Pinot Noir-Syrah' 'Nielluciu' 'Malbec-Bonarda' 'Vespaiolo'\n",
      " 'Malbec-Carménère' 'Biancolella' 'Sauvignon Blanc-Verdejo' 'Aidani'\n",
      " 'Garnacha-Monastrell' 'Vinhão' 'Souzao' 'Roter Traminer'\n",
      " 'Moscatel de Alejandría' 'Rolle' 'Tinta Francisca' 'Malvasia Nera'\n",
      " 'Orangetraube' 'Riesling-Chardonnay' 'Žilavka' 'Portuguiser'\n",
      " 'Listán Negro' 'Pinotage-Merlot' 'Muscadine' 'Maria Gomes-Bical'\n",
      " 'Grolleau' 'Zlahtina' 'Syrah-Grenache-Viognier' 'Jacquez' 'Gouveio'\n",
      " 'Canaiolo' 'Carignan-Syrah' 'Bombino Nero' 'Chardonnay-Riesling'\n",
      " 'Malagouzia-Chardonnay' 'Mavrotragano' 'Bovale' 'Frankovka'\n",
      " 'Shiraz-Roussanne' 'Cabernet-Shiraz' 'Syrah-Carignan' 'Elbling'\n",
      " 'Gragnano' 'Garnacha Blend' 'Pinot Blanc-Chardonnay' 'Schwartzriesling'\n",
      " 'Petit Meslier' 'Bastardo' 'Vidadillo' 'Misket'\n",
      " 'Chardonnay Weissburgunder' 'Other' 'Robola' 'Merlot-Shiraz' 'Malagouzia'\n",
      " 'Folle Blanche' 'Malbec Blend' 'Merlot-Syrah' 'Tamianka'\n",
      " 'Cabernet Pfeffer' 'Morio Muskat' 'Rabigato' 'Babić' 'Roviello'\n",
      " 'Yapincak' 'Sauvignonasse' 'Viognier-Marsanne' 'Mandilaria' 'Meseguera'\n",
      " 'Alvarinho-Chardonnay' 'Saperavi-Merlot' 'Pinot Blanc-Viognier'\n",
      " 'Teroldego Rotaliano' 'Biancu Gentile' 'Garnacha-Tempranillo' 'Xinisteri'\n",
      " 'Sauvignon Blanc-Sauvignon Gris' 'Trebbiano di Lugana' 'Albarossa'\n",
      " 'Ryzlink Rýnský' 'Verdeca' 'Cabernet Sauvignon Grenache'\n",
      " 'Tămâioasă Românească' 'Black Monukka' 'Merlot-Grenache' 'Vranac'\n",
      " 'Tempranillo-Syrah' 'Chardonel' 'Silvaner-Traminer' 'Uvalino'\n",
      " 'Merseguera-Sauvignon Blanc' 'Cabernet-Malbec' 'Boğazkere'\n",
      " 'Gelber Traminer' 'Vermentino Nero' 'Cayuga' 'Tinta Amarela'\n",
      " 'Tinta Negra Mole' 'Moscato Rosa' 'Chelois' 'Sauvignon Blanc-Assyrtiko'\n",
      " nan 'Muscadel' 'Shiraz-Tempranillo' 'Roussanne-Grenache Blanc' 'Biancale'\n",
      " 'Ansonica' 'Syrah-Bonarda' 'Durif' 'Franconia' 'Malbec-Tempranillo'\n",
      " 'Nasco' 'Monastrell-Petit Verdot' 'Sirica' 'Vital' 'Espadeiro' 'Apple'\n",
      " 'Pinot Grigio-Sauvignon Blanc' 'Blatina' 'Karalahna' 'Feteasca' 'Sercial'\n",
      " 'Valvin Muscat' 'Malvasia Fina' 'Roditis-Moschofilero' 'St. Vincent'\n",
      " 'Chancellor' 'Premsal' 'Jampal' 'Tokay Pinot Gris' 'Colorino' 'Picapoll'\n",
      " 'Blauburger' 'Tinta Madeira' 'Centesimino' 'Grenache Gris' 'Trajadura'\n",
      " 'Merlot-Petite Verdot' 'Ramisco' 'Catalanesca' 'Garnacha-Cabernet'\n",
      " 'Garnacha-Cariñena' 'Gamza' 'Cabernet Franc-Lemberger'\n",
      " 'Chardonnay-Albariño' 'Shiraz-Mourvèdre' 'Mavrokalavryta' 'Favorita'\n",
      " 'Babosa Negro' 'Tintilia ' 'Dafni' 'Petit Courbu' 'Kotsifali' 'Parraleta'\n",
      " 'Moscato di Noto' 'Roscetto' 'Torontel' 'Otskhanuri Sapere'\n",
      " 'Viognier-Valdiguié' 'Trollinger' 'Tsapournakos' 'Francisa' 'Kuntra'\n",
      " 'Pignolo' 'Caprettone' 'Ondenc' 'Athiri' 'Bobal-Cabernet Sauvignon']\n",
      "Total number of variety 707\n"
     ]
    }
   ],
   "source": [
    "#types of wines produced \n",
    "names = df['variety'].unique()\n",
    "numberoftypes = df['variety'].nunique()\n",
    "print(names)\n",
    "print('Total number of variety',numberoftypes)"
   ]
  },
  {
   "cell_type": "code",
   "execution_count": 12,
   "id": "e1b2b4ba",
   "metadata": {},
   "outputs": [
    {
     "data": {
      "text/plain": [
       "country                     63\n",
       "description                  0\n",
       "designation              37465\n",
       "points                       0\n",
       "price                     8996\n",
       "province                    63\n",
       "region_1                 21247\n",
       "region_2                 79460\n",
       "taster_name              26244\n",
       "taster_twitter_handle    31213\n",
       "title                        0\n",
       "variety                      1\n",
       "winery                       0\n",
       "dtype: int64"
      ]
     },
     "execution_count": 12,
     "metadata": {},
     "output_type": "execute_result"
    }
   ],
   "source": [
    "df.isnull().sum()"
   ]
  },
  {
   "cell_type": "code",
   "execution_count": 13,
   "id": "1d9cbb47",
   "metadata": {},
   "outputs": [],
   "source": [
    "#we can observe that there are certain number of columns that has a huge number of missing values.These columns won't be that much useful for our analysis..\n",
    "df.drop(columns=['designation','region_1','region_2','taster_name','taster_twitter_handle'],axis=1,inplace =True)"
   ]
  },
  {
   "cell_type": "code",
   "execution_count": 14,
   "id": "198528b0",
   "metadata": {},
   "outputs": [
    {
     "data": {
      "text/plain": [
       "country          63\n",
       "description       0\n",
       "points            0\n",
       "price          8996\n",
       "province         63\n",
       "title             0\n",
       "variety           1\n",
       "winery            0\n",
       "dtype: int64"
      ]
     },
     "execution_count": 14,
     "metadata": {},
     "output_type": "execute_result"
    }
   ],
   "source": [
    "df.isnull().sum()"
   ]
  },
  {
   "cell_type": "code",
   "execution_count": 15,
   "id": "17c67f24",
   "metadata": {},
   "outputs": [],
   "source": [
    "df.fillna(0,inplace = True)"
   ]
  },
  {
   "cell_type": "code",
   "execution_count": 16,
   "id": "9f3031e3",
   "metadata": {},
   "outputs": [
    {
     "data": {
      "text/plain": [
       "country        0\n",
       "description    0\n",
       "points         0\n",
       "price          0\n",
       "province       0\n",
       "title          0\n",
       "variety        0\n",
       "winery         0\n",
       "dtype: int64"
      ]
     },
     "execution_count": 16,
     "metadata": {},
     "output_type": "execute_result"
    }
   ],
   "source": [
    "df.isnull().sum()"
   ]
  },
  {
   "cell_type": "code",
   "execution_count": 17,
   "id": "cbd513b9",
   "metadata": {},
   "outputs": [
    {
     "data": {
      "text/html": [
       "<div>\n",
       "<style scoped>\n",
       "    .dataframe tbody tr th:only-of-type {\n",
       "        vertical-align: middle;\n",
       "    }\n",
       "\n",
       "    .dataframe tbody tr th {\n",
       "        vertical-align: top;\n",
       "    }\n",
       "\n",
       "    .dataframe thead th {\n",
       "        text-align: right;\n",
       "    }\n",
       "</style>\n",
       "<table border=\"1\" class=\"dataframe\">\n",
       "  <thead>\n",
       "    <tr style=\"text-align: right;\">\n",
       "      <th></th>\n",
       "      <th>country</th>\n",
       "      <th>description</th>\n",
       "      <th>points</th>\n",
       "      <th>price</th>\n",
       "      <th>province</th>\n",
       "      <th>title</th>\n",
       "      <th>variety</th>\n",
       "      <th>winery</th>\n",
       "    </tr>\n",
       "  </thead>\n",
       "  <tbody>\n",
       "    <tr>\n",
       "      <th>80290</th>\n",
       "      <td>France</td>\n",
       "      <td>This ripe wine shows plenty of blackberry frui...</td>\n",
       "      <td>88</td>\n",
       "      <td>3300.0</td>\n",
       "      <td>Bordeaux</td>\n",
       "      <td>Château les Ormes Sorbet 2013  Médoc</td>\n",
       "      <td>Bordeaux-style Red Blend</td>\n",
       "      <td>Château les Ormes Sorbet</td>\n",
       "    </tr>\n",
       "    <tr>\n",
       "      <th>15840</th>\n",
       "      <td>France</td>\n",
       "      <td>The wine is a velvet glove in an iron fist. Th...</td>\n",
       "      <td>96</td>\n",
       "      <td>2500.0</td>\n",
       "      <td>Bordeaux</td>\n",
       "      <td>Château Pétrus 2014  Pomerol</td>\n",
       "      <td>Bordeaux-style Red Blend</td>\n",
       "      <td>Château Pétrus</td>\n",
       "    </tr>\n",
       "    <tr>\n",
       "      <th>98380</th>\n",
       "      <td>France</td>\n",
       "      <td>A superb wine from a great year, this is power...</td>\n",
       "      <td>96</td>\n",
       "      <td>2500.0</td>\n",
       "      <td>Burgundy</td>\n",
       "      <td>Domaine du Comte Liger-Belair 2010  La Romanée</td>\n",
       "      <td>Pinot Noir</td>\n",
       "      <td>Domaine du Comte Liger-Belair</td>\n",
       "    </tr>\n",
       "    <tr>\n",
       "      <th>120391</th>\n",
       "      <td>US</td>\n",
       "      <td>The nose on this single-vineyard wine from a s...</td>\n",
       "      <td>91</td>\n",
       "      <td>2013.0</td>\n",
       "      <td>California</td>\n",
       "      <td>Blair 2013 Roger Rose Vineyard Chardonnay (Arr...</td>\n",
       "      <td>Chardonnay</td>\n",
       "      <td>Blair</td>\n",
       "    </tr>\n",
       "    <tr>\n",
       "      <th>65352</th>\n",
       "      <td>France</td>\n",
       "      <td>This extravagantly perfumed wine has great jui...</td>\n",
       "      <td>97</td>\n",
       "      <td>2000.0</td>\n",
       "      <td>Bordeaux</td>\n",
       "      <td>Château Pétrus 2011  Pomerol</td>\n",
       "      <td>Bordeaux-style Red Blend</td>\n",
       "      <td>Château Pétrus</td>\n",
       "    </tr>\n",
       "    <tr>\n",
       "      <th>113564</th>\n",
       "      <td>France</td>\n",
       "      <td>A wonderfully complete wine, with all the elem...</td>\n",
       "      <td>96</td>\n",
       "      <td>2000.0</td>\n",
       "      <td>Burgundy</td>\n",
       "      <td>Domaine du Comte Liger-Belair 2005  La Romanée</td>\n",
       "      <td>Pinot Noir</td>\n",
       "      <td>Domaine du Comte Liger-Belair</td>\n",
       "    </tr>\n",
       "    <tr>\n",
       "      <th>1558</th>\n",
       "      <td>France</td>\n",
       "      <td>A massive wine for Margaux, packed with tannin...</td>\n",
       "      <td>98</td>\n",
       "      <td>1900.0</td>\n",
       "      <td>Bordeaux</td>\n",
       "      <td>Château Margaux 2009  Margaux</td>\n",
       "      <td>Bordeaux-style Red Blend</td>\n",
       "      <td>Château Margaux</td>\n",
       "    </tr>\n",
       "    <tr>\n",
       "      <th>111753</th>\n",
       "      <td>France</td>\n",
       "      <td>Almost black in color, this stunning wine is g...</td>\n",
       "      <td>100</td>\n",
       "      <td>1500.0</td>\n",
       "      <td>Bordeaux</td>\n",
       "      <td>Château Lafite Rothschild 2010  Pauillac</td>\n",
       "      <td>Bordeaux-style Red Blend</td>\n",
       "      <td>Château Lafite Rothschild</td>\n",
       "    </tr>\n",
       "    <tr>\n",
       "      <th>111755</th>\n",
       "      <td>France</td>\n",
       "      <td>This is the finest Cheval Blanc for many years...</td>\n",
       "      <td>100</td>\n",
       "      <td>1500.0</td>\n",
       "      <td>Bordeaux</td>\n",
       "      <td>Château Cheval Blanc 2010  Saint-Émilion</td>\n",
       "      <td>Bordeaux-style Red Blend</td>\n",
       "      <td>Château Cheval Blanc</td>\n",
       "    </tr>\n",
       "  </tbody>\n",
       "</table>\n",
       "</div>"
      ],
      "text/plain": [
       "       country                                        description  points  \\\n",
       "80290   France  This ripe wine shows plenty of blackberry frui...      88   \n",
       "15840   France  The wine is a velvet glove in an iron fist. Th...      96   \n",
       "98380   France  A superb wine from a great year, this is power...      96   \n",
       "120391      US  The nose on this single-vineyard wine from a s...      91   \n",
       "65352   France  This extravagantly perfumed wine has great jui...      97   \n",
       "113564  France  A wonderfully complete wine, with all the elem...      96   \n",
       "1558    France  A massive wine for Margaux, packed with tannin...      98   \n",
       "111753  France  Almost black in color, this stunning wine is g...     100   \n",
       "111755  France  This is the finest Cheval Blanc for many years...     100   \n",
       "\n",
       "         price    province                                              title  \\\n",
       "80290   3300.0    Bordeaux               Château les Ormes Sorbet 2013  Médoc   \n",
       "15840   2500.0    Bordeaux                       Château Pétrus 2014  Pomerol   \n",
       "98380   2500.0    Burgundy     Domaine du Comte Liger-Belair 2010  La Romanée   \n",
       "120391  2013.0  California  Blair 2013 Roger Rose Vineyard Chardonnay (Arr...   \n",
       "65352   2000.0    Bordeaux                       Château Pétrus 2011  Pomerol   \n",
       "113564  2000.0    Burgundy     Domaine du Comte Liger-Belair 2005  La Romanée   \n",
       "1558    1900.0    Bordeaux                      Château Margaux 2009  Margaux   \n",
       "111753  1500.0    Bordeaux           Château Lafite Rothschild 2010  Pauillac   \n",
       "111755  1500.0    Bordeaux           Château Cheval Blanc 2010  Saint-Émilion   \n",
       "\n",
       "                         variety                         winery  \n",
       "80290   Bordeaux-style Red Blend       Château les Ormes Sorbet  \n",
       "15840   Bordeaux-style Red Blend                 Château Pétrus  \n",
       "98380                 Pinot Noir  Domaine du Comte Liger-Belair  \n",
       "120391                Chardonnay                          Blair  \n",
       "65352   Bordeaux-style Red Blend                 Château Pétrus  \n",
       "113564                Pinot Noir  Domaine du Comte Liger-Belair  \n",
       "1558    Bordeaux-style Red Blend                Château Margaux  \n",
       "111753  Bordeaux-style Red Blend      Château Lafite Rothschild  \n",
       "111755  Bordeaux-style Red Blend           Château Cheval Blanc  "
      ]
     },
     "execution_count": 17,
     "metadata": {},
     "output_type": "execute_result"
    }
   ],
   "source": [
    "df[df['price']>=1500].sort_values('price',ascending=False)"
   ]
  },
  {
   "cell_type": "markdown",
   "id": "aa809672",
   "metadata": {},
   "source": [
    "France has most expensive wines"
   ]
  },
  {
   "cell_type": "code",
   "execution_count": 18,
   "id": "74650735",
   "metadata": {},
   "outputs": [
    {
     "data": {
      "text/plain": [
       "US                        54504\n",
       "France                    22093\n",
       "Italy                     19540\n",
       "Spain                      6645\n",
       "Portugal                   5691\n",
       "Chile                      4472\n",
       "Argentina                  3800\n",
       "Austria                    3345\n",
       "Australia                  2329\n",
       "Germany                    2165\n",
       "New Zealand                1419\n",
       "South Africa               1401\n",
       "Israel                      505\n",
       "Greece                      466\n",
       "Canada                      257\n",
       "Hungary                     146\n",
       "Bulgaria                    141\n",
       "Romania                     120\n",
       "Uruguay                     109\n",
       "Turkey                       90\n",
       "Slovenia                     87\n",
       "Georgia                      86\n",
       "England                      74\n",
       "Croatia                      73\n",
       "Mexico                       70\n",
       "0                            63\n",
       "Moldova                      59\n",
       "Brazil                       52\n",
       "Lebanon                      35\n",
       "Morocco                      28\n",
       "Peru                         16\n",
       "Ukraine                      14\n",
       "Serbia                       12\n",
       "Macedonia                    12\n",
       "Czech Republic               12\n",
       "Cyprus                       11\n",
       "India                         9\n",
       "Switzerland                   7\n",
       "Luxembourg                    6\n",
       "Armenia                       2\n",
       "Bosnia and Herzegovina        2\n",
       "Slovakia                      1\n",
       "Egypt                         1\n",
       "China                         1\n",
       "Name: country, dtype: int64"
      ]
     },
     "execution_count": 18,
     "metadata": {},
     "output_type": "execute_result"
    }
   ],
   "source": [
    "df['country'].value_counts()"
   ]
  },
  {
   "cell_type": "markdown",
   "id": "e1c4e038",
   "metadata": {},
   "source": [
    "The US is the largest producer of wines.It has 54504 types of wines."
   ]
  },
  {
   "cell_type": "code",
   "execution_count": 19,
   "id": "761c8882",
   "metadata": {},
   "outputs": [
    {
     "data": {
      "text/html": [
       "<div>\n",
       "<style scoped>\n",
       "    .dataframe tbody tr th:only-of-type {\n",
       "        vertical-align: middle;\n",
       "    }\n",
       "\n",
       "    .dataframe tbody tr th {\n",
       "        vertical-align: top;\n",
       "    }\n",
       "\n",
       "    .dataframe thead th {\n",
       "        text-align: right;\n",
       "    }\n",
       "</style>\n",
       "<table border=\"1\" class=\"dataframe\">\n",
       "  <thead>\n",
       "    <tr style=\"text-align: right;\">\n",
       "      <th></th>\n",
       "      <th>points</th>\n",
       "    </tr>\n",
       "    <tr>\n",
       "      <th>country</th>\n",
       "      <th></th>\n",
       "    </tr>\n",
       "  </thead>\n",
       "  <tbody>\n",
       "    <tr>\n",
       "      <th>England</th>\n",
       "      <td>91.581081</td>\n",
       "    </tr>\n",
       "    <tr>\n",
       "      <th>India</th>\n",
       "      <td>90.222222</td>\n",
       "    </tr>\n",
       "    <tr>\n",
       "      <th>Austria</th>\n",
       "      <td>90.101345</td>\n",
       "    </tr>\n",
       "    <tr>\n",
       "      <th>Germany</th>\n",
       "      <td>89.851732</td>\n",
       "    </tr>\n",
       "    <tr>\n",
       "      <th>Canada</th>\n",
       "      <td>89.369650</td>\n",
       "    </tr>\n",
       "  </tbody>\n",
       "</table>\n",
       "</div>"
      ],
      "text/plain": [
       "            points\n",
       "country           \n",
       "England  91.581081\n",
       "India    90.222222\n",
       "Austria  90.101345\n",
       "Germany  89.851732\n",
       "Canada   89.369650"
      ]
     },
     "execution_count": 19,
     "metadata": {},
     "output_type": "execute_result"
    }
   ],
   "source": [
    "#Displaying the top 5 highest average points among all countries\n",
    "df.groupby('country')[['points']].mean().sort_values('points',ascending = False).head()"
   ]
  },
  {
   "cell_type": "code",
   "execution_count": 20,
   "id": "3c33738b",
   "metadata": {},
   "outputs": [
    {
     "data": {
      "image/png": "[encoded data removed]",
      "text/plain": [
       "<Figure size 1152x360 with 1 Axes>"
      ]
     },
     "metadata": {
      "needs_background": "light"
     },
     "output_type": "display_data"
    }
   ],
   "source": [
    "#Plot number of wines by Country of Origin \n",
    "import matplotlib.pyplot as plt\n",
    "plt.figure(figsize = (16,5))\n",
    "plot = df.groupby('country')['title'].count().reset_index().sort_values(by='title',ascending = False).iloc[:10,:]\n",
    "sns.barplot(x = 'country',y = 'title', data = plot)\n",
    "plt.show()"
   ]
  },
  {
   "cell_type": "code",
   "execution_count": 30,
   "id": "fe1f0aac",
   "metadata": {},
   "outputs": [
    {
     "data": {
      "image/png": "[encoded data removed]",
      "text/plain": [
       "<Figure size 1152x360 with 1 Axes>"
      ]
     },
     "metadata": {
      "needs_background": "light"
     },
     "output_type": "display_data"
    },
    {
     "data": {
      "text/html": [
       "<div>\n",
       "<style scoped>\n",
       "    .dataframe tbody tr th:only-of-type {\n",
       "        vertical-align: middle;\n",
       "    }\n",
       "\n",
       "    .dataframe tbody tr th {\n",
       "        vertical-align: top;\n",
       "    }\n",
       "\n",
       "    .dataframe thead th {\n",
       "        text-align: right;\n",
       "    }\n",
       "</style>\n",
       "<table border=\"1\" class=\"dataframe\">\n",
       "  <thead>\n",
       "    <tr style=\"text-align: right;\">\n",
       "      <th></th>\n",
       "      <th>country</th>\n",
       "      <th>points</th>\n",
       "    </tr>\n",
       "  </thead>\n",
       "  <tbody>\n",
       "    <tr>\n",
       "      <th>15</th>\n",
       "      <td>England</td>\n",
       "      <td>91.581081</td>\n",
       "    </tr>\n",
       "    <tr>\n",
       "      <th>21</th>\n",
       "      <td>India</td>\n",
       "      <td>90.222222</td>\n",
       "    </tr>\n",
       "    <tr>\n",
       "      <th>4</th>\n",
       "      <td>Austria</td>\n",
       "      <td>90.101345</td>\n",
       "    </tr>\n",
       "    <tr>\n",
       "      <th>18</th>\n",
       "      <td>Germany</td>\n",
       "      <td>89.851732</td>\n",
       "    </tr>\n",
       "    <tr>\n",
       "      <th>8</th>\n",
       "      <td>Canada</td>\n",
       "      <td>89.369650</td>\n",
       "    </tr>\n",
       "  </tbody>\n",
       "</table>\n",
       "</div>"
      ],
      "text/plain": [
       "    country     points\n",
       "15  England  91.581081\n",
       "21    India  90.222222\n",
       "4   Austria  90.101345\n",
       "18  Germany  89.851732\n",
       "8    Canada  89.369650"
      ]
     },
     "execution_count": 30,
     "metadata": {},
     "output_type": "execute_result"
    }
   ],
   "source": [
    "#Graph based on Highest point of wines vs Country of Origin \n",
    "\n",
    "plt.figure(figsize = (16,5))\n",
    "plot = df.groupby('country')[['points']].mean().reset_index().sort_values(by='points',ascending = False).iloc[:5,:]\n",
    "sns.barplot(x='country',y='points',data=plot)\n",
    "plt.show()\n",
    "plot.head(5)"
   ]
  },
  {
   "cell_type": "code",
   "execution_count": 22,
   "id": "c484c5ca",
   "metadata": {},
   "outputs": [
    {
     "data": {
      "image/png": "[encoded data removed]",
      "text/plain": [
       "<Figure size 1152x360 with 1 Axes>"
      ]
     },
     "metadata": {
      "needs_background": "light"
     },
     "output_type": "display_data"
    }
   ],
   "source": [
    "#Plot wine-producing provinces of the world (category) to the number of labels of wines they produce (number).\n",
    "\n",
    "plt.figure(figsize = (16,5))\n",
    "plot = df.groupby('province')['title'].count().reset_index().sort_values(by = 'title',ascending = False).iloc[:10,:]\n",
    "sns.barplot(x = 'province',y = 'title',data = plot)\n",
    "plt.show()"
   ]
  },
  {
   "cell_type": "code",
   "execution_count": 23,
   "id": "f3c32136",
   "metadata": {},
   "outputs": [
    {
     "data": {
      "image/png": "[encoded data removed]",
      "text/plain": [
       "<Figure size 1152x360 with 1 Axes>"
      ]
     },
     "metadata": {
      "needs_background": "light"
     },
     "output_type": "display_data"
    }
   ],
   "source": [
    "#overall points of wine.\n",
    "\n",
    "plt.figure(figsize = (16,5))\n",
    "sns.countplot(x=df.points)\n",
    "plt.show()"
   ]
  },
  {
   "cell_type": "code",
   "execution_count": 24,
   "id": "969092b3",
   "metadata": {},
   "outputs": [
    {
     "data": {
      "image/png": "[encoded data removed]",
      "text/plain": [
       "<Figure size 1152x360 with 1 Axes>"
      ]
     },
     "metadata": {
      "needs_background": "light"
     },
     "output_type": "display_data"
    }
   ],
   "source": [
    "#Plot prices vs points \n",
    "\n",
    "plt.figure(figsize = (16,5))\n",
    "sns.barplot(x = 'points',y= 'price',data = df)\n",
    "plt.show()"
   ]
  },
  {
   "cell_type": "code",
   "execution_count": 25,
   "id": "70f06311",
   "metadata": {},
   "outputs": [
    {
     "data": {
      "text/html": [
       "<div>\n",
       "<style scoped>\n",
       "    .dataframe tbody tr th:only-of-type {\n",
       "        vertical-align: middle;\n",
       "    }\n",
       "\n",
       "    .dataframe tbody tr th {\n",
       "        vertical-align: top;\n",
       "    }\n",
       "\n",
       "    .dataframe thead th {\n",
       "        text-align: right;\n",
       "    }\n",
       "</style>\n",
       "<table border=\"1\" class=\"dataframe\">\n",
       "  <thead>\n",
       "    <tr style=\"text-align: right;\">\n",
       "      <th></th>\n",
       "      <th>points</th>\n",
       "    </tr>\n",
       "    <tr>\n",
       "      <th>country</th>\n",
       "      <th></th>\n",
       "    </tr>\n",
       "  </thead>\n",
       "  <tbody>\n",
       "    <tr>\n",
       "      <th>France</th>\n",
       "      <td>8</td>\n",
       "    </tr>\n",
       "    <tr>\n",
       "      <th>Italy</th>\n",
       "      <td>4</td>\n",
       "    </tr>\n",
       "    <tr>\n",
       "      <th>US</th>\n",
       "      <td>4</td>\n",
       "    </tr>\n",
       "    <tr>\n",
       "      <th>Portugal</th>\n",
       "      <td>2</td>\n",
       "    </tr>\n",
       "    <tr>\n",
       "      <th>Australia</th>\n",
       "      <td>1</td>\n",
       "    </tr>\n",
       "  </tbody>\n",
       "</table>\n",
       "</div>"
      ],
      "text/plain": [
       "           points\n",
       "country          \n",
       "France          8\n",
       "Italy           4\n",
       "US              4\n",
       "Portugal        2\n",
       "Australia       1"
      ]
     },
     "execution_count": 25,
     "metadata": {},
     "output_type": "execute_result"
    }
   ],
   "source": [
    "A=df[df['points']==100]\n",
    "B=A.pivot_table(values='points',index='country',aggfunc='count').sort_values('points',ascending=False)\n",
    "B"
   ]
  },
  {
   "cell_type": "markdown",
   "id": "9811e9ea",
   "metadata": {},
   "source": [
    "So France can be considered as the best wine producer country.It has 8 types of wines"
   ]
  },
  {
   "cell_type": "code",
   "execution_count": 28,
   "id": "efe26e72",
   "metadata": {},
   "outputs": [
    {
     "data": {
      "text/html": [
       "<div>\n",
       "<style scoped>\n",
       "    .dataframe tbody tr th:only-of-type {\n",
       "        vertical-align: middle;\n",
       "    }\n",
       "\n",
       "    .dataframe tbody tr th {\n",
       "        vertical-align: top;\n",
       "    }\n",
       "\n",
       "    .dataframe thead th {\n",
       "        text-align: right;\n",
       "    }\n",
       "</style>\n",
       "<table border=\"1\" class=\"dataframe\">\n",
       "  <thead>\n",
       "    <tr style=\"text-align: right;\">\n",
       "      <th></th>\n",
       "      <th>price</th>\n",
       "    </tr>\n",
       "    <tr>\n",
       "      <th>country</th>\n",
       "      <th></th>\n",
       "    </tr>\n",
       "  </thead>\n",
       "  <tbody>\n",
       "    <tr>\n",
       "      <th>Switzerland</th>\n",
       "      <td>85.285714</td>\n",
       "    </tr>\n",
       "    <tr>\n",
       "      <th>England</th>\n",
       "      <td>48.189189</td>\n",
       "    </tr>\n",
       "    <tr>\n",
       "      <th>Germany</th>\n",
       "      <td>41.379215</td>\n",
       "    </tr>\n",
       "    <tr>\n",
       "      <th>Hungary</th>\n",
       "      <td>40.369863</td>\n",
       "    </tr>\n",
       "    <tr>\n",
       "      <th>US</th>\n",
       "      <td>36.413089</td>\n",
       "    </tr>\n",
       "    <tr>\n",
       "      <th>Canada</th>\n",
       "      <td>35.295720</td>\n",
       "    </tr>\n",
       "    <tr>\n",
       "      <th>Australia</th>\n",
       "      <td>34.905109</td>\n",
       "    </tr>\n",
       "    <tr>\n",
       "      <th>Italy</th>\n",
       "      <td>34.333316</td>\n",
       "    </tr>\n",
       "    <tr>\n",
       "      <th>France</th>\n",
       "      <td>33.100484</td>\n",
       "    </tr>\n",
       "    <tr>\n",
       "      <th>Israel</th>\n",
       "      <td>30.762376</td>\n",
       "    </tr>\n",
       "    <tr>\n",
       "      <th>Lebanon</th>\n",
       "      <td>30.685714</td>\n",
       "    </tr>\n",
       "    <tr>\n",
       "      <th>Spain</th>\n",
       "      <td>27.909556</td>\n",
       "    </tr>\n",
       "    <tr>\n",
       "      <th>Mexico</th>\n",
       "      <td>26.785714</td>\n",
       "    </tr>\n",
       "    <tr>\n",
       "      <th>Uruguay</th>\n",
       "      <td>26.403670</td>\n",
       "    </tr>\n",
       "    <tr>\n",
       "      <th>New Zealand</th>\n",
       "      <td>26.153629</td>\n",
       "    </tr>\n",
       "    <tr>\n",
       "      <th>Austria</th>\n",
       "      <td>25.741405</td>\n",
       "    </tr>\n",
       "    <tr>\n",
       "      <th>Croatia</th>\n",
       "      <td>24.753425</td>\n",
       "    </tr>\n",
       "    <tr>\n",
       "      <th>Turkey</th>\n",
       "      <td>24.633333</td>\n",
       "    </tr>\n",
       "    <tr>\n",
       "      <th>Serbia</th>\n",
       "      <td>24.500000</td>\n",
       "    </tr>\n",
       "    <tr>\n",
       "      <th>Czech Republic</th>\n",
       "      <td>24.250000</td>\n",
       "    </tr>\n",
       "    <tr>\n",
       "      <th>Argentina</th>\n",
       "      <td>24.226316</td>\n",
       "    </tr>\n",
       "    <tr>\n",
       "      <th>Luxembourg</th>\n",
       "      <td>23.333333</td>\n",
       "    </tr>\n",
       "    <tr>\n",
       "      <th>0</th>\n",
       "      <td>23.031746</td>\n",
       "    </tr>\n",
       "    <tr>\n",
       "      <th>Slovenia</th>\n",
       "      <td>22.816092</td>\n",
       "    </tr>\n",
       "    <tr>\n",
       "      <th>South Africa</th>\n",
       "      <td>22.767309</td>\n",
       "    </tr>\n",
       "    <tr>\n",
       "      <th>Portugal</th>\n",
       "      <td>22.458970</td>\n",
       "    </tr>\n",
       "    <tr>\n",
       "      <th>Greece</th>\n",
       "      <td>22.124464</td>\n",
       "    </tr>\n",
       "    <tr>\n",
       "      <th>Brazil</th>\n",
       "      <td>21.480769</td>\n",
       "    </tr>\n",
       "    <tr>\n",
       "      <th>Chile</th>\n",
       "      <td>20.526163</td>\n",
       "    </tr>\n",
       "    <tr>\n",
       "      <th>Morocco</th>\n",
       "      <td>19.500000</td>\n",
       "    </tr>\n",
       "    <tr>\n",
       "      <th>Georgia</th>\n",
       "      <td>18.872093</td>\n",
       "    </tr>\n",
       "    <tr>\n",
       "      <th>Peru</th>\n",
       "      <td>18.062500</td>\n",
       "    </tr>\n",
       "    <tr>\n",
       "      <th>China</th>\n",
       "      <td>18.000000</td>\n",
       "    </tr>\n",
       "    <tr>\n",
       "      <th>Moldova</th>\n",
       "      <td>16.745763</td>\n",
       "    </tr>\n",
       "    <tr>\n",
       "      <th>Cyprus</th>\n",
       "      <td>16.272727</td>\n",
       "    </tr>\n",
       "    <tr>\n",
       "      <th>Slovakia</th>\n",
       "      <td>16.000000</td>\n",
       "    </tr>\n",
       "    <tr>\n",
       "      <th>Macedonia</th>\n",
       "      <td>15.583333</td>\n",
       "    </tr>\n",
       "    <tr>\n",
       "      <th>Romania</th>\n",
       "      <td>15.241667</td>\n",
       "    </tr>\n",
       "    <tr>\n",
       "      <th>Bulgaria</th>\n",
       "      <td>14.645390</td>\n",
       "    </tr>\n",
       "    <tr>\n",
       "      <th>Armenia</th>\n",
       "      <td>14.500000</td>\n",
       "    </tr>\n",
       "    <tr>\n",
       "      <th>India</th>\n",
       "      <td>13.333333</td>\n",
       "    </tr>\n",
       "    <tr>\n",
       "      <th>Bosnia and Herzegovina</th>\n",
       "      <td>12.500000</td>\n",
       "    </tr>\n",
       "    <tr>\n",
       "      <th>Ukraine</th>\n",
       "      <td>9.214286</td>\n",
       "    </tr>\n",
       "    <tr>\n",
       "      <th>Egypt</th>\n",
       "      <td>0.000000</td>\n",
       "    </tr>\n",
       "  </tbody>\n",
       "</table>\n",
       "</div>"
      ],
      "text/plain": [
       "                            price\n",
       "country                          \n",
       "Switzerland             85.285714\n",
       "England                 48.189189\n",
       "Germany                 41.379215\n",
       "Hungary                 40.369863\n",
       "US                      36.413089\n",
       "Canada                  35.295720\n",
       "Australia               34.905109\n",
       "Italy                   34.333316\n",
       "France                  33.100484\n",
       "Israel                  30.762376\n",
       "Lebanon                 30.685714\n",
       "Spain                   27.909556\n",
       "Mexico                  26.785714\n",
       "Uruguay                 26.403670\n",
       "New Zealand             26.153629\n",
       "Austria                 25.741405\n",
       "Croatia                 24.753425\n",
       "Turkey                  24.633333\n",
       "Serbia                  24.500000\n",
       "Czech Republic          24.250000\n",
       "Argentina               24.226316\n",
       "Luxembourg              23.333333\n",
       "0                       23.031746\n",
       "Slovenia                22.816092\n",
       "South Africa            22.767309\n",
       "Portugal                22.458970\n",
       "Greece                  22.124464\n",
       "Brazil                  21.480769\n",
       "Chile                   20.526163\n",
       "Morocco                 19.500000\n",
       "Georgia                 18.872093\n",
       "Peru                    18.062500\n",
       "China                   18.000000\n",
       "Moldova                 16.745763\n",
       "Cyprus                  16.272727\n",
       "Slovakia                16.000000\n",
       "Macedonia               15.583333\n",
       "Romania                 15.241667\n",
       "Bulgaria                14.645390\n",
       "Armenia                 14.500000\n",
       "India                   13.333333\n",
       "Bosnia and Herzegovina  12.500000\n",
       "Ukraine                  9.214286\n",
       "Egypt                    0.000000"
      ]
     },
     "execution_count": 28,
     "metadata": {},
     "output_type": "execute_result"
    }
   ],
   "source": [
    "df.pivot_table(values='price',index='country').sort_values('price',ascending=False)"
   ]
  },
  {
   "cell_type": "markdown",
   "id": "da14b70d",
   "metadata": {},
   "source": [
    "Switzerland wines are much costly and Ukraine wines are much cheaper"
   ]
  },
  {
   "cell_type": "code",
   "execution_count": 31,
   "id": "7eb7ff7c",
   "metadata": {},
   "outputs": [],
   "source": [
    "from wordcloud import WordCloud,STOPWORDS\n",
    "stopwords=set(STOPWORDS)\n",
    "\n",
    "def word_count(data):\n",
    "    wordcloud=WordCloud(\n",
    "    background_color='white',\n",
    "    stopwords=stopwords,\n",
    "        height=600,\n",
    "        width=800\n",
    "    ).generate(str(data))\n",
    "    \n",
    "    plt.imshow(wordcloud)\n",
    "    plt.show()"
   ]
  },
  {
   "cell_type": "code",
   "execution_count": 36,
   "id": "ee5329c3",
   "metadata": {},
   "outputs": [
    {
     "data": {
      "image/png": "[encoded data removed]",
      "text/plain": [
       "<Figure size 1440x360 with 1 Axes>"
      ]
     },
     "metadata": {
      "needs_background": "light"
     },
     "output_type": "display_data"
    }
   ],
   "source": [
    "plt.figure(figsize=(20,5))\n",
    "word_count(df['description'])\n"
   ]
  },
  {
   "cell_type": "code",
   "execution_count": 37,
   "id": "39bd04e9",
   "metadata": {},
   "outputs": [
    {
     "data": {
      "image/png": "[encoded data removed]",
      "text/plain": [
       "<Figure size 1440x360 with 1 Axes>"
      ]
     },
     "metadata": {
      "needs_background": "light"
     },
     "output_type": "display_data"
    }
   ],
   "source": [
    "plt.figure(figsize=(20,5))\n",
    "word_count(df['variety'])"
   ]
  },
  {
   "cell_type": "markdown",
   "id": "2d4ec0ac",
   "metadata": {},
   "source": [
    "# Conclusion"
   ]
  },
  {
   "cell_type": "markdown",
   "id": "e9255f54",
   "metadata": {},
   "source": [
    "1) France has most expensive wines.\n",
    "\n",
    "2) US is the largest producer of Wines\n",
    "\n",
    "3) England has highest points \n",
    "\n",
    "4) California has highest wine producing province\n",
    "\n",
    "5) France can be considered as best wine producer\n",
    "\n",
    "6) Switzerland wines are much costly.\n",
    "\n",
    "7) Ukraine wines are most cheaper"
   ]
  },
  {
   "cell_type": "code",
   "execution_count": null,
   "id": "fc8281e4",
   "metadata": {},
   "outputs": [],
   "source": []
  }
 ],
 "metadata": {
  "kernelspec": {
   "display_name": "Python 3",
   "language": "python",
   "name": "python3"
  },
  "language_info": {
   "codemirror_mode": {
    "name": "ipython",
    "version": 3
   },
   "file_extension": ".py",
   "mimetype": "text/x-python",
   "name": "python",
   "nbconvert_exporter": "python",
   "pygments_lexer": "ipython3",
   "version": "3.8.8"
  }
 },
 "nbformat": 4,
 "nbformat_minor": 5
}
